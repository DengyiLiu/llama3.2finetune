{
 "cells": [
  {
   "cell_type": "code",
   "execution_count": 1,
   "metadata": {},
   "outputs": [
    {
     "name": "stderr",
     "output_type": "stream",
     "text": [
      "/home/dengyiliu/miniconda3/envs/llama3/lib/python3.11/site-packages/tqdm/auto.py:21: TqdmWarning: IProgress not found. Please update jupyter and ipywidgets. See https://ipywidgets.readthedocs.io/en/stable/user_install.html\n",
      "  from .autonotebook import tqdm as notebook_tqdm\n"
     ]
    }
   ],
   "source": [
    "import pandas as pd\n",
    "import seaborn as sns\n",
    "import matplotlib.pyplot as plt\n",
    "from datasets import load_dataset\n",
    "from datasets import Dataset\n",
    "import os"
   ]
  },
  {
   "cell_type": "code",
   "execution_count": 2,
   "metadata": {},
   "outputs": [],
   "source": [
    "import json\n",
    "import evaluate\n",
    "from bert_score import score as bertscore\n",
    "from sentence_transformers import SentenceTransformer, util\n",
    "from evaluate import load\n",
    "\n",
    "# Load evaluation metrics\n",
    "bleu_metric = evaluate.load(\"bleu\")\n",
    "accuracy_metric = evaluate.load(\"accuracy\")\n",
    "rouge_metric = evaluate.load(\"rouge\")\n",
    "\n",
    "\n",
    "# Load predictions from your JSON file\n",
    "def load_predictions(file_path):\n",
    "    with open(file_path, \"r\") as f:\n",
    "        return json.load(f)\n",
    "\n",
    "# Function to compute contextual appropriateness (embedding-based similarity)\n",
    "def compute_contextual_appropriateness(ground_truth, responses, model_name=\"all-MiniLM-L6-v2\"):\n",
    "    # Load embedding model\n",
    "    embedding_model = SentenceTransformer(model_name)\n",
    "\n",
    "    # Compute embeddings\n",
    "    ground_truth_embeddings = embedding_model.encode(ground_truth, convert_to_tensor=True)\n",
    "    response_embeddings = embedding_model.encode(responses, convert_to_tensor=True)\n",
    "\n",
    "    # Compute cosine similarity for corresponding pairs\n",
    "    similarities = []\n",
    "    for gt_embed, resp_embed in zip(ground_truth_embeddings, response_embeddings):\n",
    "        similarity = util.cos_sim(gt_embed, resp_embed).item()  # Get similarity as a scalar value\n",
    "        similarities.append(similarity)\n",
    "\n",
    "    # Print the individual similarities for each pair\n",
    "    # print(similarities)\n",
    "\n",
    "    # Return the average similarity\n",
    "    return sum(similarities) / len(similarities) if similarities else 0.0\n",
    "\n",
    "# Function to run evaluation\n",
    "def evaluate_predictions(predictions):\n",
    "    predicted_outputs = []\n",
    "    references = []\n",
    "    contexts = []\n",
    "    instructions = []\n",
    "\n",
    "    for sample in predictions:\n",
    "        # Collect predicted and reference responses\n",
    "        predicted_outputs.append(sample[\"predicted_response\"])\n",
    "        references.append(sample[\"response\"])  # Ground truth is in the 'response' field\n",
    "\n",
    "    # Compute BLEU score\n",
    "    bleu_score = bleu_metric.compute(predictions=predicted_outputs, references=references)\n",
    "\n",
    "    # Compute Exact Match (EM)\n",
    "    exact_match_accuracy = sum([1 for p, r in zip(predicted_outputs, references) if p == r[0]]) / len(references)\n",
    "\n",
    "    # Compute ROUGE scores\n",
    "    rouge_scores = rouge_metric.compute(predictions=predicted_outputs, references=[ref[0] for ref in references])\n",
    "\n",
    "    # Compute BERTScore\n",
    "    P, R, F1 = bertscore(predicted_outputs, [ref[0] for ref in references], lang=\"en\")\n",
    "\n",
    "    # Compute Contextual Appropriateness (Embedding-Based)\n",
    "\n",
    "    contextual_appropriateness = compute_contextual_appropriateness(references, predicted_outputs)\n",
    "\n",
    "    print(\"Evaluation Metrics:\")\n",
    "    print(\"====================\")\n",
    "    print(f\"BLEU Score: {bleu_score['bleu']}\")\n",
    "    print(f\"Exact Match Accuracy: {exact_match_accuracy}\")\n",
    "    print(\"ROUGE Scores:\")\n",
    "    for key, value in rouge_scores.items():\n",
    "        print(f\"  {key.upper()}: {value}\")\n",
    "    print(\"BERTScore:\")\n",
    "    print(f\"  Precision: {P.mean()}\")\n",
    "    print(f\"  Recall: {R.mean()}\")\n",
    "    print(f\"  F1 Score: {F1.mean()}\")\n",
    "    print(f\"Cosine Similarity (Contextual Appropriateness): {contextual_appropriateness:.2f}\")\n",
    "\n",
    "# # Example\n",
    "# predictions = load_predictions(\"/content/predictions_test_dataset_classification.json\")\n",
    "# evaluate_predictions(predictions)"
   ]
  },
  {
   "cell_type": "code",
   "execution_count": 3,
   "metadata": {},
   "outputs": [
    {
     "name": "stderr",
     "output_type": "stream",
     "text": [
      "Some weights of RobertaModel were not initialized from the model checkpoint at roberta-large and are newly initialized: ['roberta.pooler.dense.bias', 'roberta.pooler.dense.weight']\n",
      "You should probably TRAIN this model on a down-stream task to be able to use it for predictions and inference.\n"
     ]
    },
    {
     "name": "stdout",
     "output_type": "stream",
     "text": [
      "Evaluation Metrics:\n",
      "====================\n",
      "BLEU Score: 0.02812680931334385\n",
      "Exact Match Accuracy: 0.0\n",
      "ROUGE Scores:\n",
      "  ROUGE1: 0.005146431792876331\n",
      "  ROUGE2: 0.0\n",
      "  ROUGEL: 0.005156193220211549\n",
      "  ROUGELSUM: 0.0051915049784720755\n",
      "BERTScore:\n",
      "  Precision: 0.7574295401573181\n",
      "  Recall: 0.8405299186706543\n",
      "  F1 Score: 0.7966559529304504\n",
      "Cosine Similarity (Contextual Appropriateness): 0.63\n"
     ]
    }
   ],
   "source": [
    "#after ft eva\n",
    "\n",
    "predictions = load_predictions(\"/mnt/c/Users/IoT_lab_YU/dengyiliu/llama3/llama3.2finetune/llama3.2/evaluate/predictions_8b_beforeft_test_dataset_brainstorming.jsonl\")\n",
    "\n",
    "# Run evaluation\n",
    "evaluate_predictions(predictions)"
   ]
  },
  {
   "cell_type": "code",
   "execution_count": 18,
   "metadata": {},
   "outputs": [
    {
     "name": "stderr",
     "output_type": "stream",
     "text": [
      "Some weights of RobertaModel were not initialized from the model checkpoint at roberta-large and are newly initialized: ['roberta.pooler.dense.bias', 'roberta.pooler.dense.weight']\n",
      "You should probably TRAIN this model on a down-stream task to be able to use it for predictions and inference.\n"
     ]
    },
    {
     "name": "stdout",
     "output_type": "stream",
     "text": [
      "Evaluation Metrics:\n",
      "====================\n",
      "BLEU Score: 0.030374035822168723\n",
      "Exact Match Accuracy: 0.0\n",
      "ROUGE Scores:\n",
      "  ROUGE1: 0.006386634648973823\n",
      "  ROUGE2: 0.0\n",
      "  ROUGEL: 0.0063463818025219845\n",
      "  ROUGELSUM: 0.0064081192409692605\n",
      "BERTScore:\n",
      "  Precision: 0.7558797001838684\n",
      "  Recall: 0.8296282291412354\n",
      "  F1 Score: 0.7907983660697937\n",
      "Cosine Similarity (Contextual Appropriateness): 0.59\n"
     ]
    }
   ],
   "source": [
    "\n",
    "predictions = load_predictions(\"/mnt/c/Users/IoT_lab_YU/dengyiliu/llama3/llama3.2finetune/llama3.2/evaluate/predictions_8bft_test_dataset_brainstorming.jsonl\")\n",
    "\n",
    "# Run evaluation\n",
    "evaluate_predictions(predictions)"
   ]
  },
  {
   "cell_type": "code",
   "execution_count": 4,
   "metadata": {},
   "outputs": [
    {
     "name": "stderr",
     "output_type": "stream",
     "text": [
      "Some weights of RobertaModel were not initialized from the model checkpoint at roberta-large and are newly initialized: ['roberta.pooler.dense.bias', 'roberta.pooler.dense.weight']\n",
      "You should probably TRAIN this model on a down-stream task to be able to use it for predictions and inference.\n"
     ]
    },
    {
     "name": "stdout",
     "output_type": "stream",
     "text": [
      "Evaluation Metrics:\n",
      "====================\n",
      "BLEU Score: 0.04145679820936703\n",
      "Exact Match Accuracy: 0.0\n",
      "ROUGE Scores:\n",
      "  ROUGE1: 0.005206428102022298\n",
      "  ROUGE2: 0.0\n",
      "  ROUGEL: 0.005210517831898242\n",
      "  ROUGELSUM: 0.005214840722875525\n",
      "BERTScore:\n",
      "  Precision: 0.7508653402328491\n",
      "  Recall: 0.83944171667099\n",
      "  F1 Score: 0.7925155758857727\n",
      "Cosine Similarity (Contextual Appropriateness): 0.74\n"
     ]
    }
   ],
   "source": [
    "predictions = load_predictions(\"/mnt/c/Users/IoT_lab_YU/dengyiliu/llama3/llama3.2finetune/llama3.2/evaluate/predictions_8b_beforeft_test_dataset_classification.jsonl\")\n",
    "\n",
    "# Run evaluation\n",
    "evaluate_predictions(predictions)"
   ]
  },
  {
   "cell_type": "code",
   "execution_count": 17,
   "metadata": {},
   "outputs": [
    {
     "name": "stderr",
     "output_type": "stream",
     "text": [
      "Some weights of RobertaModel were not initialized from the model checkpoint at roberta-large and are newly initialized: ['roberta.pooler.dense.bias', 'roberta.pooler.dense.weight']\n",
      "You should probably TRAIN this model on a down-stream task to be able to use it for predictions and inference.\n"
     ]
    },
    {
     "name": "stdout",
     "output_type": "stream",
     "text": [
      "Evaluation Metrics:\n",
      "====================\n",
      "BLEU Score: 0.11066695094462599\n",
      "Exact Match Accuracy: 0.0\n",
      "ROUGE Scores:\n",
      "  ROUGE1: 0.003423057810104591\n",
      "  ROUGE2: 0.0\n",
      "  ROUGEL: 0.0034334932006263065\n",
      "  ROUGELSUM: 0.0033530935823151437\n",
      "BERTScore:\n",
      "  Precision: 0.7414257526397705\n",
      "  Recall: 0.8288153409957886\n",
      "  F1 Score: 0.7824397087097168\n",
      "Cosine Similarity (Contextual Appropriateness): 0.73\n"
     ]
    }
   ],
   "source": [
    "predictions = load_predictions(\"/mnt/c/Users/IoT_lab_YU/dengyiliu/llama3/llama3.2finetune/llama3.2/evaluate/predictions_8bft_test_dataset_classification.jsonl\")\n",
    "\n",
    "# Run evaluation\n",
    "evaluate_predictions(predictions)"
   ]
  },
  {
   "cell_type": "code",
   "execution_count": 5,
   "metadata": {},
   "outputs": [
    {
     "name": "stderr",
     "output_type": "stream",
     "text": [
      "Some weights of RobertaModel were not initialized from the model checkpoint at roberta-large and are newly initialized: ['roberta.pooler.dense.bias', 'roberta.pooler.dense.weight']\n",
      "You should probably TRAIN this model on a down-stream task to be able to use it for predictions and inference.\n"
     ]
    },
    {
     "name": "stdout",
     "output_type": "stream",
     "text": [
      "Evaluation Metrics:\n",
      "====================\n",
      "BLEU Score: 0.13330357470388665\n",
      "Exact Match Accuracy: 0.0\n",
      "ROUGE Scores:\n",
      "  ROUGE1: 0.003909042240284728\n",
      "  ROUGE2: 0.0\n",
      "  ROUGEL: 0.0038937346918775048\n",
      "  ROUGELSUM: 0.00391092630772367\n",
      "BERTScore:\n",
      "  Precision: 0.750071108341217\n",
      "  Recall: 0.823983371257782\n",
      "  F1 Score: 0.785168468952179\n",
      "Cosine Similarity (Contextual Appropriateness): 0.77\n"
     ]
    }
   ],
   "source": [
    "predictions = load_predictions(\"/mnt/c/Users/IoT_lab_YU/dengyiliu/llama3/llama3.2finetune/llama3.2/evaluate/predictions_8b_beforeft_test_dataset_closed_qa.jsonl\")\n",
    "\n",
    "# Run evaluation\n",
    "evaluate_predictions(predictions)"
   ]
  },
  {
   "cell_type": "code",
   "execution_count": 16,
   "metadata": {},
   "outputs": [
    {
     "name": "stderr",
     "output_type": "stream",
     "text": [
      "Some weights of RobertaModel were not initialized from the model checkpoint at roberta-large and are newly initialized: ['roberta.pooler.dense.bias', 'roberta.pooler.dense.weight']\n",
      "You should probably TRAIN this model on a down-stream task to be able to use it for predictions and inference.\n"
     ]
    },
    {
     "name": "stdout",
     "output_type": "stream",
     "text": [
      "Evaluation Metrics:\n",
      "====================\n",
      "BLEU Score: 0.16703296108174936\n",
      "Exact Match Accuracy: 0.0\n",
      "ROUGE Scores:\n",
      "  ROUGE1: 0.0045779402061450385\n",
      "  ROUGE2: 0.0\n",
      "  ROUGEL: 0.004616541538238163\n",
      "  ROUGELSUM: 0.0046388375932204\n",
      "BERTScore:\n",
      "  Precision: 0.7463940382003784\n",
      "  Recall: 0.8255972862243652\n",
      "  F1 Score: 0.7838257551193237\n",
      "Cosine Similarity (Contextual Appropriateness): 0.73\n"
     ]
    }
   ],
   "source": [
    "predictions = load_predictions(\"/mnt/c/Users/IoT_lab_YU/dengyiliu/llama3/llama3.2finetune/llama3.2/evaluate/predictions_8bft_test_dataset_closed_qa.jsonl\")\n",
    "\n",
    "# Run evaluation\n",
    "evaluate_predictions(predictions)"
   ]
  },
  {
   "cell_type": "code",
   "execution_count": 6,
   "metadata": {},
   "outputs": [
    {
     "name": "stderr",
     "output_type": "stream",
     "text": [
      "Some weights of RobertaModel were not initialized from the model checkpoint at roberta-large and are newly initialized: ['roberta.pooler.dense.bias', 'roberta.pooler.dense.weight']\n",
      "You should probably TRAIN this model on a down-stream task to be able to use it for predictions and inference.\n"
     ]
    },
    {
     "name": "stdout",
     "output_type": "stream",
     "text": [
      "Evaluation Metrics:\n",
      "====================\n",
      "BLEU Score: 0.02191809713890451\n",
      "Exact Match Accuracy: 0.0\n",
      "ROUGE Scores:\n",
      "  ROUGE1: 0.00510216250756087\n",
      "  ROUGE2: 0.0\n",
      "  ROUGEL: 0.00511448519048404\n",
      "  ROUGELSUM: 0.005097696907716175\n",
      "BERTScore:\n",
      "  Precision: 0.7588837742805481\n",
      "  Recall: 0.8363004326820374\n",
      "  F1 Score: 0.7955341339111328\n",
      "Cosine Similarity (Contextual Appropriateness): 0.61\n"
     ]
    }
   ],
   "source": [
    "predictions = load_predictions(\"/mnt/c/Users/IoT_lab_YU/dengyiliu/llama3/llama3.2finetune/llama3.2/evaluate/predictions_8b_beforeft_test_dataset_creative_writing.jsonl\")\n",
    "\n",
    "# Run evaluation\n",
    "evaluate_predictions(predictions)"
   ]
  },
  {
   "cell_type": "code",
   "execution_count": 15,
   "metadata": {},
   "outputs": [
    {
     "name": "stderr",
     "output_type": "stream",
     "text": [
      "Some weights of RobertaModel were not initialized from the model checkpoint at roberta-large and are newly initialized: ['roberta.pooler.dense.bias', 'roberta.pooler.dense.weight']\n",
      "You should probably TRAIN this model on a down-stream task to be able to use it for predictions and inference.\n"
     ]
    },
    {
     "name": "stdout",
     "output_type": "stream",
     "text": [
      "Evaluation Metrics:\n",
      "====================\n",
      "BLEU Score: 0.011454879053419017\n",
      "Exact Match Accuracy: 0.0\n",
      "ROUGE Scores:\n",
      "  ROUGE1: 0.003925923852613176\n",
      "  ROUGE2: 0.0\n",
      "  ROUGEL: 0.003872618279710735\n",
      "  ROUGELSUM: 0.0038963684430848118\n",
      "BERTScore:\n",
      "  Precision: 0.7594756484031677\n",
      "  Recall: 0.8316750526428223\n",
      "  F1 Score: 0.793735682964325\n",
      "Cosine Similarity (Contextual Appropriateness): 0.56\n"
     ]
    }
   ],
   "source": [
    "predictions = load_predictions(\"/mnt/c/Users/IoT_lab_YU/dengyiliu/llama3/llama3.2finetune/llama3.2/evaluate/predictions_8bft_test_dataset_creative_writing.jsonl\")\n",
    "\n",
    "# Run evaluation\n",
    "evaluate_predictions(predictions)"
   ]
  },
  {
   "cell_type": "code",
   "execution_count": 7,
   "metadata": {},
   "outputs": [
    {
     "name": "stderr",
     "output_type": "stream",
     "text": [
      "Some weights of RobertaModel were not initialized from the model checkpoint at roberta-large and are newly initialized: ['roberta.pooler.dense.bias', 'roberta.pooler.dense.weight']\n",
      "You should probably TRAIN this model on a down-stream task to be able to use it for predictions and inference.\n"
     ]
    },
    {
     "name": "stdout",
     "output_type": "stream",
     "text": [
      "Evaluation Metrics:\n",
      "====================\n",
      "BLEU Score: 0.04642434619992193\n",
      "Exact Match Accuracy: 0.0\n",
      "ROUGE Scores:\n",
      "  ROUGE1: 0.003963960696266216\n",
      "  ROUGE2: 0.0\n",
      "  ROUGEL: 0.003949279480109907\n",
      "  ROUGELSUM: 0.003987505330162918\n",
      "BERTScore:\n",
      "  Precision: 0.7598872780799866\n",
      "  Recall: 0.8392840027809143\n",
      "  F1 Score: 0.797468900680542\n",
      "Cosine Similarity (Contextual Appropriateness): 0.73\n"
     ]
    }
   ],
   "source": [
    "predictions = load_predictions(\"/mnt/c/Users/IoT_lab_YU/dengyiliu/llama3/llama3.2finetune/llama3.2/evaluate/predictions_8b_beforeft_test_dataset_general_qa.jsonl\")\n",
    "\n",
    "# Run evaluation\n",
    "evaluate_predictions(predictions)"
   ]
  },
  {
   "cell_type": "code",
   "execution_count": 14,
   "metadata": {},
   "outputs": [
    {
     "name": "stderr",
     "output_type": "stream",
     "text": [
      "Some weights of RobertaModel were not initialized from the model checkpoint at roberta-large and are newly initialized: ['roberta.pooler.dense.bias', 'roberta.pooler.dense.weight']\n",
      "You should probably TRAIN this model on a down-stream task to be able to use it for predictions and inference.\n"
     ]
    },
    {
     "name": "stdout",
     "output_type": "stream",
     "text": [
      "Evaluation Metrics:\n",
      "====================\n",
      "BLEU Score: 0.023642383912282728\n",
      "Exact Match Accuracy: 0.0\n",
      "ROUGE Scores:\n",
      "  ROUGE1: 0.0049053907459990585\n",
      "  ROUGE2: 0.0\n",
      "  ROUGEL: 0.004819481530440814\n",
      "  ROUGELSUM: 0.00490828700322618\n",
      "BERTScore:\n",
      "  Precision: 0.7575551271438599\n",
      "  Recall: 0.832028329372406\n",
      "  F1 Score: 0.7928701043128967\n",
      "Cosine Similarity (Contextual Appropriateness): 0.66\n"
     ]
    }
   ],
   "source": [
    "predictions = load_predictions(\"/mnt/c/Users/IoT_lab_YU/dengyiliu/llama3/llama3.2finetune/llama3.2/evaluate/predictions_8bft_test_dataset_general_qa.jsonl\")\n",
    "\n",
    "# Run evaluation\n",
    "evaluate_predictions(predictions)"
   ]
  },
  {
   "cell_type": "code",
   "execution_count": 8,
   "metadata": {},
   "outputs": [
    {
     "name": "stderr",
     "output_type": "stream",
     "text": [
      "Some weights of RobertaModel were not initialized from the model checkpoint at roberta-large and are newly initialized: ['roberta.pooler.dense.bias', 'roberta.pooler.dense.weight']\n",
      "You should probably TRAIN this model on a down-stream task to be able to use it for predictions and inference.\n"
     ]
    },
    {
     "name": "stdout",
     "output_type": "stream",
     "text": [
      "Evaluation Metrics:\n",
      "====================\n",
      "BLEU Score: 0.17416116033105894\n",
      "Exact Match Accuracy: 0.0\n",
      "ROUGE Scores:\n",
      "  ROUGE1: 0.004206325016230125\n",
      "  ROUGE2: 0.0\n",
      "  ROUGEL: 0.004181761971203091\n",
      "  ROUGELSUM: 0.004131155331802168\n",
      "BERTScore:\n",
      "  Precision: 0.7482337355613708\n",
      "  Recall: 0.8288138508796692\n",
      "  F1 Score: 0.7862796783447266\n",
      "Cosine Similarity (Contextual Appropriateness): 0.73\n"
     ]
    }
   ],
   "source": [
    "predictions = load_predictions(\"/mnt/c/Users/IoT_lab_YU/dengyiliu/llama3/llama3.2finetune/llama3.2/evaluate/predictions_8b_beforeft_test_dataset_information_extraction.jsonl\")\n",
    "\n",
    "# Run evaluation\n",
    "evaluate_predictions(predictions)"
   ]
  },
  {
   "cell_type": "code",
   "execution_count": 13,
   "metadata": {},
   "outputs": [
    {
     "name": "stderr",
     "output_type": "stream",
     "text": [
      "Some weights of RobertaModel were not initialized from the model checkpoint at roberta-large and are newly initialized: ['roberta.pooler.dense.bias', 'roberta.pooler.dense.weight']\n",
      "You should probably TRAIN this model on a down-stream task to be able to use it for predictions and inference.\n"
     ]
    },
    {
     "name": "stdout",
     "output_type": "stream",
     "text": [
      "Evaluation Metrics:\n",
      "====================\n",
      "BLEU Score: 0.16817022741189291\n",
      "Exact Match Accuracy: 0.0\n",
      "ROUGE Scores:\n",
      "  ROUGE1: 0.0046134188058598695\n",
      "  ROUGE2: 0.0\n",
      "  ROUGEL: 0.004730962478241635\n",
      "  ROUGELSUM: 0.004715125844335291\n",
      "BERTScore:\n",
      "  Precision: 0.7415175437927246\n",
      "  Recall: 0.8264254927635193\n",
      "  F1 Score: 0.7814009785652161\n",
      "Cosine Similarity (Contextual Appropriateness): 0.72\n"
     ]
    }
   ],
   "source": [
    "predictions = load_predictions(\"/mnt/c/Users/IoT_lab_YU/dengyiliu/llama3/llama3.2finetune/llama3.2/evaluate/predictions_8bft_test_dataset_information_extraction.jsonl\")\n",
    "\n",
    "# Run evaluation\n",
    "evaluate_predictions(predictions)"
   ]
  },
  {
   "cell_type": "code",
   "execution_count": 9,
   "metadata": {},
   "outputs": [
    {
     "name": "stderr",
     "output_type": "stream",
     "text": [
      "Some weights of RobertaModel were not initialized from the model checkpoint at roberta-large and are newly initialized: ['roberta.pooler.dense.bias', 'roberta.pooler.dense.weight']\n",
      "You should probably TRAIN this model on a down-stream task to be able to use it for predictions and inference.\n"
     ]
    },
    {
     "name": "stdout",
     "output_type": "stream",
     "text": [
      "Evaluation Metrics:\n",
      "====================\n",
      "BLEU Score: 0.04538278622079109\n",
      "Exact Match Accuracy: 0.0\n",
      "ROUGE Scores:\n",
      "  ROUGE1: 0.004441804935587351\n",
      "  ROUGE2: 0.0\n",
      "  ROUGEL: 0.004472801151414532\n",
      "  ROUGELSUM: 0.0044049564548703304\n",
      "BERTScore:\n",
      "  Precision: 0.7546486258506775\n",
      "  Recall: 0.8374326825141907\n",
      "  F1 Score: 0.7937356233596802\n",
      "Cosine Similarity (Contextual Appropriateness): 0.68\n"
     ]
    }
   ],
   "source": [
    "predictions = load_predictions(\"/mnt/c/Users/IoT_lab_YU/dengyiliu/llama3/llama3.2finetune/llama3.2/evaluate/predictions_8b_beforeft_test_dataset_open_qa.jsonl\")\n",
    "\n",
    "# Run evaluation\n",
    "evaluate_predictions(predictions)"
   ]
  },
  {
   "cell_type": "code",
   "execution_count": 12,
   "metadata": {},
   "outputs": [
    {
     "name": "stderr",
     "output_type": "stream",
     "text": [
      "Some weights of RobertaModel were not initialized from the model checkpoint at roberta-large and are newly initialized: ['roberta.pooler.dense.bias', 'roberta.pooler.dense.weight']\n",
      "You should probably TRAIN this model on a down-stream task to be able to use it for predictions and inference.\n"
     ]
    },
    {
     "name": "stdout",
     "output_type": "stream",
     "text": [
      "Evaluation Metrics:\n",
      "====================\n",
      "BLEU Score: 0.04430628921290098\n",
      "Exact Match Accuracy: 0.0\n",
      "ROUGE Scores:\n",
      "  ROUGE1: 0.0057064653405631115\n",
      "  ROUGE2: 0.0\n",
      "  ROUGEL: 0.005710027156754198\n",
      "  ROUGELSUM: 0.0056473189358349695\n",
      "BERTScore:\n",
      "  Precision: 0.7482785582542419\n",
      "  Recall: 0.8292772769927979\n",
      "  F1 Score: 0.7864561080932617\n",
      "Cosine Similarity (Contextual Appropriateness): 0.63\n"
     ]
    }
   ],
   "source": [
    "predictions = load_predictions(\"/mnt/c/Users/IoT_lab_YU/dengyiliu/llama3/llama3.2finetune/llama3.2/evaluate/predictions_8bft_test_dataset_open_qa.jsonl\")\n",
    "\n",
    "# Run evaluation\n",
    "evaluate_predictions(predictions)"
   ]
  },
  {
   "cell_type": "code",
   "execution_count": 10,
   "metadata": {},
   "outputs": [
    {
     "name": "stderr",
     "output_type": "stream",
     "text": [
      "Some weights of RobertaModel were not initialized from the model checkpoint at roberta-large and are newly initialized: ['roberta.pooler.dense.bias', 'roberta.pooler.dense.weight']\n",
      "You should probably TRAIN this model on a down-stream task to be able to use it for predictions and inference.\n"
     ]
    },
    {
     "name": "stdout",
     "output_type": "stream",
     "text": [
      "Evaluation Metrics:\n",
      "====================\n",
      "BLEU Score: 0.15852701600761412\n",
      "Exact Match Accuracy: 0.0\n",
      "ROUGE Scores:\n",
      "  ROUGE1: 0.005857705414602541\n",
      "  ROUGE2: 0.0\n",
      "  ROUGEL: 0.005928647661043427\n",
      "  ROUGELSUM: 0.005852980555706419\n",
      "BERTScore:\n",
      "  Precision: 0.7516302466392517\n",
      "  Recall: 0.8262122273445129\n",
      "  F1 Score: 0.7870107889175415\n",
      "Cosine Similarity (Contextual Appropriateness): 0.83\n"
     ]
    }
   ],
   "source": [
    "predictions = load_predictions(\"/mnt/c/Users/IoT_lab_YU/dengyiliu/llama3/llama3.2finetune/llama3.2/evaluate/predictions_8b_beforeft_test_dataset_summarization.jsonl\")\n",
    "\n",
    "# Run evaluation\n",
    "evaluate_predictions(predictions)"
   ]
  },
  {
   "cell_type": "code",
   "execution_count": 11,
   "metadata": {},
   "outputs": [
    {
     "name": "stderr",
     "output_type": "stream",
     "text": [
      "Some weights of RobertaModel were not initialized from the model checkpoint at roberta-large and are newly initialized: ['roberta.pooler.dense.bias', 'roberta.pooler.dense.weight']\n",
      "You should probably TRAIN this model on a down-stream task to be able to use it for predictions and inference.\n"
     ]
    },
    {
     "name": "stdout",
     "output_type": "stream",
     "text": [
      "Evaluation Metrics:\n",
      "====================\n",
      "BLEU Score: 0.09439940696524764\n",
      "Exact Match Accuracy: 0.0\n",
      "ROUGE Scores:\n",
      "  ROUGE1: 0.004716152398072004\n",
      "  ROUGE2: 0.0\n",
      "  ROUGEL: 0.004877678077535218\n",
      "  ROUGELSUM: 0.004865036613849591\n",
      "BERTScore:\n",
      "  Precision: 0.7501161694526672\n",
      "  Recall: 0.8243694305419922\n",
      "  F1 Score: 0.785338819026947\n",
      "Cosine Similarity (Contextual Appropriateness): 0.79\n"
     ]
    }
   ],
   "source": [
    "predictions = load_predictions(\"/mnt/c/Users/IoT_lab_YU/dengyiliu/llama3/llama3.2finetune/llama3.2/evaluate/predictions_8bft_test_dataset_summarization.jsonl\")\n",
    "\n",
    "# Run evaluation\n",
    "evaluate_predictions(predictions)"
   ]
  }
 ],
 "metadata": {
  "kernelspec": {
   "display_name": "llama3",
   "language": "python",
   "name": "python3"
  },
  "language_info": {
   "codemirror_mode": {
    "name": "ipython",
    "version": 3
   },
   "file_extension": ".py",
   "mimetype": "text/x-python",
   "name": "python",
   "nbconvert_exporter": "python",
   "pygments_lexer": "ipython3",
   "version": "3.11.10"
  }
 },
 "nbformat": 4,
 "nbformat_minor": 2
}
