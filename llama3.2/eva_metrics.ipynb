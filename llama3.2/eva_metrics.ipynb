{
 "cells": [
  {
   "cell_type": "code",
   "execution_count": 1,
   "metadata": {},
   "outputs": [
    {
     "name": "stderr",
     "output_type": "stream",
     "text": [
      "/home/dengyiliu/miniconda3/envs/llama3/lib/python3.11/site-packages/tqdm/auto.py:21: TqdmWarning: IProgress not found. Please update jupyter and ipywidgets. See https://ipywidgets.readthedocs.io/en/stable/user_install.html\n",
      "  from .autonotebook import tqdm as notebook_tqdm\n"
     ]
    }
   ],
   "source": [
    "import pandas as pd\n",
    "import seaborn as sns\n",
    "import matplotlib.pyplot as plt\n",
    "from datasets import load_dataset\n",
    "from datasets import Dataset\n",
    "import os"
   ]
  },
  {
   "cell_type": "code",
   "execution_count": 2,
   "metadata": {},
   "outputs": [],
   "source": [
    "import json\n",
    "import evaluate\n",
    "from bert_score import score as bertscore\n",
    "from sentence_transformers import SentenceTransformer, util\n",
    "from evaluate import load\n",
    "\n",
    "# Load evaluation metrics\n",
    "bleu_metric = evaluate.load(\"bleu\")\n",
    "accuracy_metric = evaluate.load(\"accuracy\")\n",
    "rouge_metric = evaluate.load(\"rouge\")\n",
    "\n",
    "\n",
    "# Load predictions from your JSON file\n",
    "def load_predictions(file_path):\n",
    "    with open(file_path, \"r\") as f:\n",
    "        return json.load(f)\n",
    "\n",
    "# Function to compute contextual appropriateness (embedding-based similarity)\n",
    "def compute_contextual_appropriateness(ground_truth, responses, model_name=\"all-MiniLM-L6-v2\"):\n",
    "    # Load embedding model\n",
    "    embedding_model = SentenceTransformer(model_name)\n",
    "\n",
    "    # Compute embeddings\n",
    "    ground_truth_embeddings = embedding_model.encode(ground_truth, convert_to_tensor=True)\n",
    "    response_embeddings = embedding_model.encode(responses, convert_to_tensor=True)\n",
    "\n",
    "    # Compute cosine similarity for corresponding pairs\n",
    "    similarities = []\n",
    "    for gt_embed, resp_embed in zip(ground_truth_embeddings, response_embeddings):\n",
    "        similarity = util.cos_sim(gt_embed, resp_embed).item()  # Get similarity as a scalar value\n",
    "        similarities.append(similarity)\n",
    "\n",
    "    # Print the individual similarities for each pair\n",
    "    # print(similarities)\n",
    "\n",
    "    # Return the average similarity\n",
    "    return sum(similarities) / len(similarities) if similarities else 0.0\n",
    "\n",
    "# Function to run evaluation\n",
    "def evaluate_predictions(predictions):\n",
    "    predicted_outputs = []\n",
    "    references = []\n",
    "    contexts = []\n",
    "    instructions = []\n",
    "\n",
    "    for sample in predictions:\n",
    "        # Collect predicted and reference responses\n",
    "        predicted_outputs.append(sample[\"predicted_response\"])\n",
    "        references.append(sample[\"response\"])  # Ground truth is in the 'response' field\n",
    "\n",
    "    # Compute BLEU score\n",
    "    bleu_score = bleu_metric.compute(predictions=predicted_outputs, references=references)\n",
    "\n",
    "    # Compute Exact Match (EM)\n",
    "    exact_match_accuracy = sum([1 for p, r in zip(predicted_outputs, references) if p == r[0]]) / len(references)\n",
    "\n",
    "    # Compute ROUGE scores\n",
    "    rouge_scores = rouge_metric.compute(predictions=predicted_outputs, references=[ref[0] for ref in references])\n",
    "\n",
    "    # Compute BERTScore\n",
    "    P, R, F1 = bertscore(predicted_outputs, [ref[0] for ref in references], lang=\"en\")\n",
    "\n",
    "    # Compute Contextual Appropriateness (Embedding-Based)\n",
    "\n",
    "    contextual_appropriateness = compute_contextual_appropriateness(references, predicted_outputs)\n",
    "\n",
    "    print(\"Evaluation Metrics:\")\n",
    "    print(\"====================\")\n",
    "    print(f\"BLEU Score: {bleu_score['bleu']}\")\n",
    "    print(f\"Exact Match Accuracy: {exact_match_accuracy}\")\n",
    "    print(\"ROUGE Scores:\")\n",
    "    for key, value in rouge_scores.items():\n",
    "        print(f\"  {key.upper()}: {value}\")\n",
    "    print(\"BERTScore:\")\n",
    "    print(f\"  Precision: {P.mean()}\")\n",
    "    print(f\"  Recall: {R.mean()}\")\n",
    "    print(f\"  F1 Score: {F1.mean()}\")\n",
    "    print(f\"Cosine Similarity (Contextual Appropriateness): {contextual_appropriateness:.2f}\")\n",
    "\n",
    "# # Example\n",
    "# predictions = load_predictions(\"/content/predictions_test_dataset_classification.json\")\n",
    "# evaluate_predictions(predictions)"
   ]
  },
  {
   "cell_type": "code",
   "execution_count": null,
   "metadata": {},
   "outputs": [],
   "source": []
  },
  {
   "cell_type": "code",
   "execution_count": 3,
   "metadata": {},
   "outputs": [
    {
     "name": "stderr",
     "output_type": "stream",
     "text": [
      "Some weights of RobertaModel were not initialized from the model checkpoint at roberta-large and are newly initialized: ['roberta.pooler.dense.bias', 'roberta.pooler.dense.weight']\n",
      "You should probably TRAIN this model on a down-stream task to be able to use it for predictions and inference.\n"
     ]
    },
    {
     "name": "stdout",
     "output_type": "stream",
     "text": [
      "Evaluation Metrics:\n",
      "====================\n",
      "BLEU Score: 0.04143476935496052\n",
      "Exact Match Accuracy: 0.0\n",
      "ROUGE Scores:\n",
      "  ROUGE1: 0.00684952724587649\n",
      "  ROUGE2: 0.0\n",
      "  ROUGEL: 0.006874268452085391\n",
      "  ROUGELSUM: 0.00681170726756815\n",
      "BERTScore:\n",
      "  Precision: 0.7545576691627502\n",
      "  Recall: 0.8349120020866394\n",
      "  F1 Score: 0.7924672365188599\n",
      "Cosine Similarity (Contextual Appropriateness): 0.59\n"
     ]
    }
   ],
   "source": [
    "predictions = load_predictions(\"/mnt/c/Users/IoT_lab_YU/dengyiliu/llama3/llama3.2finetune/llama3.2/evaluate/predictions_3b_afterft_test_dataset_brainstorming.jsonl\")\n",
    "\n",
    "# Run evaluation\n",
    "evaluate_predictions(predictions)"
   ]
  },
  {
   "cell_type": "code",
   "execution_count": null,
   "metadata": {},
   "outputs": [],
   "source": []
  },
  {
   "cell_type": "code",
   "execution_count": 5,
   "metadata": {},
   "outputs": [
    {
     "name": "stderr",
     "output_type": "stream",
     "text": [
      "Some weights of RobertaModel were not initialized from the model checkpoint at roberta-large and are newly initialized: ['roberta.pooler.dense.bias', 'roberta.pooler.dense.weight']\n",
      "You should probably TRAIN this model on a down-stream task to be able to use it for predictions and inference.\n"
     ]
    },
    {
     "name": "stdout",
     "output_type": "stream",
     "text": [
      "Evaluation Metrics:\n",
      "====================\n",
      "BLEU Score: 0.12953438468619694\n",
      "Exact Match Accuracy: 0.0\n",
      "ROUGE Scores:\n",
      "  ROUGE1: 0.0049270568665882135\n",
      "  ROUGE2: 0.0\n",
      "  ROUGEL: 0.004881139997433746\n",
      "  ROUGELSUM: 0.004994465433858675\n",
      "BERTScore:\n",
      "  Precision: 0.7343763113021851\n",
      "  Recall: 0.8341160416603088\n",
      "  F1 Score: 0.7807930111885071\n",
      "Cosine Similarity (Contextual Appropriateness): 0.73\n"
     ]
    }
   ],
   "source": [
    "predictions = load_predictions(\"/mnt/c/Users/IoT_lab_YU/dengyiliu/llama3/llama3.2finetune/llama3.2/evaluate/predictions_3b_afterft_test_dataset_classification.jsonl\")\n",
    "\n",
    "# Run evaluation\n",
    "evaluate_predictions(predictions)"
   ]
  },
  {
   "cell_type": "code",
   "execution_count": null,
   "metadata": {},
   "outputs": [],
   "source": []
  },
  {
   "cell_type": "code",
   "execution_count": 6,
   "metadata": {},
   "outputs": [
    {
     "name": "stderr",
     "output_type": "stream",
     "text": [
      "Some weights of RobertaModel were not initialized from the model checkpoint at roberta-large and are newly initialized: ['roberta.pooler.dense.bias', 'roberta.pooler.dense.weight']\n",
      "You should probably TRAIN this model on a down-stream task to be able to use it for predictions and inference.\n"
     ]
    },
    {
     "name": "stdout",
     "output_type": "stream",
     "text": [
      "Evaluation Metrics:\n",
      "====================\n",
      "BLEU Score: 0.17251017722293752\n",
      "Exact Match Accuracy: 0.0\n",
      "ROUGE Scores:\n",
      "  ROUGE1: 0.003902769620963754\n",
      "  ROUGE2: 0.0\n",
      "  ROUGEL: 0.0038009208920352705\n",
      "  ROUGELSUM: 0.0038737421639943545\n",
      "BERTScore:\n",
      "  Precision: 0.7447069883346558\n",
      "  Recall: 0.8329216837882996\n",
      "  F1 Score: 0.7860437631607056\n",
      "Cosine Similarity (Contextual Appropriateness): 0.71\n"
     ]
    }
   ],
   "source": [
    "predictions = load_predictions(\"/mnt/c/Users/IoT_lab_YU/dengyiliu/llama3/llama3.2finetune/llama3.2/evaluate/predictions_3b_afterft_test_dataset_closed_qa.jsonl\")\n",
    "\n",
    "# Run evaluation\n",
    "evaluate_predictions(predictions)"
   ]
  },
  {
   "cell_type": "code",
   "execution_count": null,
   "metadata": {},
   "outputs": [],
   "source": []
  },
  {
   "cell_type": "code",
   "execution_count": 7,
   "metadata": {},
   "outputs": [
    {
     "name": "stderr",
     "output_type": "stream",
     "text": [
      "Some weights of RobertaModel were not initialized from the model checkpoint at roberta-large and are newly initialized: ['roberta.pooler.dense.bias', 'roberta.pooler.dense.weight']\n",
      "You should probably TRAIN this model on a down-stream task to be able to use it for predictions and inference.\n"
     ]
    },
    {
     "name": "stdout",
     "output_type": "stream",
     "text": [
      "Evaluation Metrics:\n",
      "====================\n",
      "BLEU Score: 0.011883903431398744\n",
      "Exact Match Accuracy: 0.0\n",
      "ROUGE Scores:\n",
      "  ROUGE1: 0.00446501399669\n",
      "  ROUGE2: 0.0\n",
      "  ROUGEL: 0.004389751961637937\n",
      "  ROUGELSUM: 0.00448452376313613\n",
      "BERTScore:\n",
      "  Precision: 0.7578727006912231\n",
      "  Recall: 0.8355059027671814\n",
      "  F1 Score: 0.794640064239502\n",
      "Cosine Similarity (Contextual Appropriateness): 0.56\n"
     ]
    }
   ],
   "source": [
    "predictions = load_predictions(\"/mnt/c/Users/IoT_lab_YU/dengyiliu/llama3/llama3.2finetune/llama3.2/evaluate/predictions_3b_afterft_test_dataset_creative_writing.jsonl\")\n",
    "\n",
    "# Run evaluation\n",
    "evaluate_predictions(predictions)"
   ]
  },
  {
   "cell_type": "code",
   "execution_count": null,
   "metadata": {},
   "outputs": [],
   "source": []
  },
  {
   "cell_type": "code",
   "execution_count": 8,
   "metadata": {},
   "outputs": [
    {
     "name": "stderr",
     "output_type": "stream",
     "text": [
      "Some weights of RobertaModel were not initialized from the model checkpoint at roberta-large and are newly initialized: ['roberta.pooler.dense.bias', 'roberta.pooler.dense.weight']\n",
      "You should probably TRAIN this model on a down-stream task to be able to use it for predictions and inference.\n"
     ]
    },
    {
     "name": "stdout",
     "output_type": "stream",
     "text": [
      "Evaluation Metrics:\n",
      "====================\n",
      "BLEU Score: 0.0236693531277319\n",
      "Exact Match Accuracy: 0.0\n",
      "ROUGE Scores:\n",
      "  ROUGE1: 0.005109967017030415\n",
      "  ROUGE2: 0.0\n",
      "  ROUGEL: 0.005139325079950808\n",
      "  ROUGELSUM: 0.005129334544315017\n",
      "BERTScore:\n",
      "  Precision: 0.7559553980827332\n",
      "  Recall: 0.8356185555458069\n",
      "  F1 Score: 0.7935957312583923\n",
      "Cosine Similarity (Contextual Appropriateness): 0.66\n"
     ]
    }
   ],
   "source": [
    "predictions = load_predictions(\"/mnt/c/Users/IoT_lab_YU/dengyiliu/llama3/llama3.2finetune/llama3.2/evaluate/predictions_3b_afterft_test_dataset_general_qa.jsonl\")\n",
    "\n",
    "# Run evaluation\n",
    "evaluate_predictions(predictions)"
   ]
  },
  {
   "cell_type": "code",
   "execution_count": null,
   "metadata": {},
   "outputs": [],
   "source": []
  },
  {
   "cell_type": "code",
   "execution_count": 9,
   "metadata": {},
   "outputs": [
    {
     "name": "stderr",
     "output_type": "stream",
     "text": [
      "Some weights of RobertaModel were not initialized from the model checkpoint at roberta-large and are newly initialized: ['roberta.pooler.dense.bias', 'roberta.pooler.dense.weight']\n",
      "You should probably TRAIN this model on a down-stream task to be able to use it for predictions and inference.\n"
     ]
    },
    {
     "name": "stdout",
     "output_type": "stream",
     "text": [
      "Evaluation Metrics:\n",
      "====================\n",
      "BLEU Score: 0.17658631273730488\n",
      "Exact Match Accuracy: 0.0\n",
      "ROUGE Scores:\n",
      "  ROUGE1: 0.003574087804453012\n",
      "  ROUGE2: 0.0\n",
      "  ROUGEL: 0.0036124765602300038\n",
      "  ROUGELSUM: 0.0035788344516843717\n",
      "BERTScore:\n",
      "  Precision: 0.7389606237411499\n",
      "  Recall: 0.8294253945350647\n",
      "  F1 Score: 0.781273603439331\n",
      "Cosine Similarity (Contextual Appropriateness): 0.73\n"
     ]
    }
   ],
   "source": [
    "predictions = load_predictions(\"/mnt/c/Users/IoT_lab_YU/dengyiliu/llama3/llama3.2finetune/llama3.2/evaluate/predictions_3b_afterft_test_dataset_information_extraction.jsonl\")\n",
    "\n",
    "# Run evaluation\n",
    "evaluate_predictions(predictions)"
   ]
  },
  {
   "cell_type": "code",
   "execution_count": null,
   "metadata": {},
   "outputs": [],
   "source": []
  },
  {
   "cell_type": "code",
   "execution_count": 10,
   "metadata": {},
   "outputs": [
    {
     "name": "stderr",
     "output_type": "stream",
     "text": [
      "Some weights of RobertaModel were not initialized from the model checkpoint at roberta-large and are newly initialized: ['roberta.pooler.dense.bias', 'roberta.pooler.dense.weight']\n",
      "You should probably TRAIN this model on a down-stream task to be able to use it for predictions and inference.\n"
     ]
    },
    {
     "name": "stdout",
     "output_type": "stream",
     "text": [
      "Evaluation Metrics:\n",
      "====================\n",
      "BLEU Score: 0.044894400688716474\n",
      "Exact Match Accuracy: 0.0\n",
      "ROUGE Scores:\n",
      "  ROUGE1: 0.006791997454530168\n",
      "  ROUGE2: 0.0\n",
      "  ROUGEL: 0.0067589368267555825\n",
      "  ROUGELSUM: 0.006779568900908339\n",
      "BERTScore:\n",
      "  Precision: 0.7476020455360413\n",
      "  Recall: 0.8358011841773987\n",
      "  F1 Score: 0.7889477610588074\n",
      "Cosine Similarity (Contextual Appropriateness): 0.62\n"
     ]
    }
   ],
   "source": [
    "predictions = load_predictions(\"/mnt/c/Users/IoT_lab_YU/dengyiliu/llama3/llama3.2finetune/llama3.2/evaluate/predictions_3b_afterft_test_dataset_open_qa.jsonl\")\n",
    "\n",
    "# Run evaluation\n",
    "evaluate_predictions(predictions)"
   ]
  },
  {
   "cell_type": "code",
   "execution_count": null,
   "metadata": {},
   "outputs": [],
   "source": []
  },
  {
   "cell_type": "code",
   "execution_count": 11,
   "metadata": {},
   "outputs": [
    {
     "name": "stderr",
     "output_type": "stream",
     "text": [
      "Some weights of RobertaModel were not initialized from the model checkpoint at roberta-large and are newly initialized: ['roberta.pooler.dense.bias', 'roberta.pooler.dense.weight']\n",
      "You should probably TRAIN this model on a down-stream task to be able to use it for predictions and inference.\n"
     ]
    },
    {
     "name": "stdout",
     "output_type": "stream",
     "text": [
      "Evaluation Metrics:\n",
      "====================\n",
      "BLEU Score: 0.09743749398076966\n",
      "Exact Match Accuracy: 0.0\n",
      "ROUGE Scores:\n",
      "  ROUGE1: 0.008851405463924093\n",
      "  ROUGE2: 0.0\n",
      "  ROUGEL: 0.008932418146646233\n",
      "  ROUGELSUM: 0.008921290477559072\n",
      "BERTScore:\n",
      "  Precision: 0.7485904693603516\n",
      "  Recall: 0.8268677592277527\n",
      "  F1 Score: 0.7856000661849976\n",
      "Cosine Similarity (Contextual Appropriateness): 0.77\n"
     ]
    }
   ],
   "source": [
    "predictions = load_predictions(\"/mnt/c/Users/IoT_lab_YU/dengyiliu/llama3/llama3.2finetune/llama3.2/evaluate/predictions_3b_afterft_test_dataset_summarization.jsonl\")\n",
    "\n",
    "# Run evaluation\n",
    "evaluate_predictions(predictions)"
   ]
  },
  {
   "cell_type": "code",
   "execution_count": null,
   "metadata": {},
   "outputs": [],
   "source": []
  },
  {
   "cell_type": "code",
   "execution_count": null,
   "metadata": {},
   "outputs": [],
   "source": []
  }
 ],
 "metadata": {
  "kernelspec": {
   "display_name": "llama3",
   "language": "python",
   "name": "python3"
  },
  "language_info": {
   "codemirror_mode": {
    "name": "ipython",
    "version": 3
   },
   "file_extension": ".py",
   "mimetype": "text/x-python",
   "name": "python",
   "nbconvert_exporter": "python",
   "pygments_lexer": "ipython3",
   "version": "3.11.10"
  }
 },
 "nbformat": 4,
 "nbformat_minor": 2
}
