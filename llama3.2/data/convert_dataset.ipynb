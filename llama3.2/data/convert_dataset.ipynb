{
 "cells": [
  {
   "cell_type": "code",
   "execution_count": 5,
   "metadata": {},
   "outputs": [],
   "source": [
    "import torch\n",
    "from datasets import load_dataset\n",
    "import os"
   ]
  },
  {
   "cell_type": "code",
   "execution_count": 2,
   "metadata": {},
   "outputs": [
    {
     "name": "stdout",
     "output_type": "stream",
     "text": [
      "['instruction', 'context', 'response', 'category']\n"
     ]
    }
   ],
   "source": [
    "dataset = load_dataset(\"databricks/databricks-dolly-15k\", split=\"train\")\n",
    "print(dataset.column_names)"
   ]
  },
  {
   "cell_type": "code",
   "execution_count": 4,
   "metadata": {},
   "outputs": [
    {
     "name": "stdout",
     "output_type": "stream",
     "text": [
      "Train and test datasets have been exported as JSON files.\n"
     ]
    }
   ],
   "source": [
    "from sklearn.model_selection import train_test_split\n",
    "from datasets import Dataset, load_dataset\n",
    "\n",
    "dataset = load_dataset(\"databricks/databricks-dolly-15k\", split=\"train\")\n",
    "\n",
    "data = dataset.to_pandas()\n",
    "\n",
    "train_data, test_data = train_test_split(\n",
    "    data,\n",
    "    test_size=0.2, \n",
    "    stratify=data['category'],  \n",
    "    random_state=42  \n",
    ")\n",
    "\n",
    "\n",
    "train_data.to_json(\"train_dataset.json\", orient=\"records\", lines=True, force_ascii=False)\n",
    "test_data.to_json(\"test_dataset_all_category.json\", orient=\"records\", lines=True, force_ascii=False)\n",
    "\n",
    "print(\"Train and test datasets have been exported as JSON files.\")"
   ]
  },
  {
   "cell_type": "code",
   "execution_count": 6,
   "metadata": {},
   "outputs": [
    {
     "name": "stdout",
     "output_type": "stream",
     "text": [
      "processing finished.\n"
     ]
    }
   ],
   "source": [
    "train_data.to_json(\"train_dataset.json\", orient=\"records\", lines=True, force_ascii=False)\n",
    "test_data.to_json(\"test_dataset.json\", orient=\"records\", lines=True, force_ascii=False)\n",
    "\n",
    "\n",
    "categories = test_data['category'].unique()  \n",
    "os.makedirs(\"test_categories\", exist_ok=True)  \n",
    "\n",
    "for category in categories:\n",
    "    category_data = test_data[test_data['category'] == category]  \n",
    "    file_name = f\"test_categories/test_dataset_{category}.json\" \n",
    "    category_data.to_json(file_name, orient=\"records\", lines=True, force_ascii=False) \n",
    "\n",
    "print('processing finished.')\n"
   ]
  }
 ],
 "metadata": {
  "kernelspec": {
   "display_name": "llama3",
   "language": "python",
   "name": "python3"
  },
  "language_info": {
   "codemirror_mode": {
    "name": "ipython",
    "version": 3
   },
   "file_extension": ".py",
   "mimetype": "text/x-python",
   "name": "python",
   "nbconvert_exporter": "python",
   "pygments_lexer": "ipython3",
   "version": "3.11.10"
  }
 },
 "nbformat": 4,
 "nbformat_minor": 2
}
